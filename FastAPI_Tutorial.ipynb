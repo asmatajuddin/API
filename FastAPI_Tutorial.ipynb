{
  "nbformat": 4,
  "nbformat_minor": 0,
  "metadata": {
    "colab": {
      "provenance": []
    },
    "kernelspec": {
      "name": "python3",
      "display_name": "Python 3"
    },
    "language_info": {
      "name": "python"
    }
  },
  "cells": [
    {
      "cell_type": "markdown",
      "source": [
        "FastAPI Tutorial: An Introduction to Using FastAPI"
      ],
      "metadata": {
        "id": "KnJ9hl52D-DZ"
      }
    },
    {
      "cell_type": "markdown",
      "source": [
        "API (Application Programming Interface) are the backbone of modern architecture because they allow for applications to be modular and decoupled. This means that you can build applications built quickly and easily, allowing you to easily maintain and update them.\n",
        "\n",
        "APIs are also very important in machine learning because they allow different applications to share data and work together, saving time and effort. There are many different frameworks for building APIs in Python. Some of the most popular frameworks for creating APIs in Python are Django, Flask, and FastAPI. This tutorial is a deep dive into one of the frameworks called FastAPI.\n",
        "\n",
        "What is an API?\n",
        "\n",
        "API stands for Application Programming Interface. An API is a software intermediary that allows two applications to talk to each other. When you use an application on your phone, the application connects to the Internet and sends data to a server. The server then processes the data and sends it back to your phone. The application on your phone then interprets the data and presents it to you in a readable way.\n",
        "\n",
        "An API is like a waiter in a restaurant. The waiter takes your order and sends it to the kitchen. The kitchen then prepares the food and sends it back to the waiter. The waiter then brings the food to you.\n",
        "\n",
        "In the same way, an API takes a request from an application and sends it to a server. The server then processes the request and sends the data back to the application. The application then interprets the data and presents it to the user.\n",
        "\n"
      ],
      "metadata": {
        "id": "3HA54fijD-1_"
      }
    },
    {
      "cell_type": "markdown",
      "source": [
        "What is FastAPI\n",
        "\n",
        "FastAPI is a high-performing web framework for building APIs with Python 3.7+ based on standard Python type hints. It helps developers build applications quickly and efficiently. FastAPI is built on top of the Starlette web server and includes features that make building web applications easier, such as automatic data validation, error handling, and interactive API docs.\n",
        "\n",
        "We will look at all these features individually in this section. First, let’s look at key features as pointed out in the original documentation of FastAPI.\n",
        "\n",
        "Performance: On par with NodeJS and the Go language.\n",
        "Speed: Increase the development speed 2-3X.\n",
        "Easy: Great editor support. Completion everywhere. Easy to learn and use.\n",
        "Robust: Production-ready code with automatic interactive documentation.\n",
        "OpenAPI based: Fully compatible with OpenAPI and JSON Schema.\n"
      ],
      "metadata": {
        "id": "HluK2Ag-EINH"
      }
    },
    {
      "cell_type": "markdown",
      "source": [
        "Installing FastAPI\n",
        "\n",
        "FastAPI requires Python 3.7+. It can be installed using pip. You will need to install FastAPI and the ASGI server `uvicorn`."
      ],
      "metadata": {
        "id": "ixDfJoK2EL3q"
      }
    },
    {
      "cell_type": "code",
      "source": [
        "``\n",
        "\n",
        "# install fastapi\n",
        "\n",
        "pip install fastapi\n",
        "\n",
        "\n",
        "\n",
        "\n",
        "# install uvicorn\n",
        "pip install uvicorn\n",
        "\n",
        "``"
      ],
      "metadata": {
        "id": "PFdnphEaEPJd"
      },
      "execution_count": null,
      "outputs": []
    },
    {
      "cell_type": "code",
      "source": [
        "```\n",
        "\n",
        "from typing import Union\n",
        "\n",
        "from fastapi import FastAPI\n",
        "\n",
        "\n",
        "\n",
        "\n",
        "app = FastAPI()\n",
        "\n",
        "\n",
        "\n",
        "\n",
        "@app.get(\"\")\n",
        "\n",
        "def read_root():\n",
        "\n",
        "    return {\"Hello\": \"World\"}\n",
        "\n",
        "\n",
        "\n",
        "\n",
        "@app.get(\"/items/{item_id}\")\n",
        "\n",
        "def read_item(item_id: int, q: Union[str, None] = None):\n",
        "\n",
        "    return {\"item_id\": item_id, \"q\": q}\n",
        "\n",
        "```"
      ],
      "metadata": {
        "id": "D6yAVZ4GEQpT"
      },
      "execution_count": null,
      "outputs": []
    },
    {
      "cell_type": "code",
      "source": [
        "```\n",
        "\n",
        "from typing import Union\n",
        "\n",
        "\n",
        "\n",
        "\n",
        "from fastapi import FastAPI\n",
        "\n",
        "from pydantic import BaseModel\n",
        "\n",
        "\n",
        "\n",
        "\n",
        "app = FastAPI()\n",
        "\n",
        "\n",
        "\n",
        "\n",
        "class Item(BaseModel):\n",
        "\n",
        "    name: str\n",
        "\n",
        "    price: float\n",
        "\n",
        "    is_offer: Union[bool, None] = None\n",
        "\n",
        "\n",
        "\n",
        "\n",
        "@app.get(\"\")\n",
        "\n",
        "def read_root():\n",
        "\n",
        "    return {\"Hello\": \"World\"}\n",
        "\n",
        "\n",
        "\n",
        "\n",
        "@app.get(\"/items/{item_id}\")\n",
        "\n",
        "def read_item(item_id: int, q: Union[str, None] = None):\n",
        "\n",
        "    return {\"item_id\": item_id, \"q\": q}\n",
        "\n",
        "\n",
        "\n",
        "\n",
        "@app.put(\"/items/{item_id}\")\n",
        "\n",
        "def update_item(item_id: int, item: Item):\n",
        "\n",
        "    return {\"item_name\": item.name, \"item_id\": item_id}\n",
        "\n",
        "```"
      ],
      "metadata": {
        "id": "Xaf7UPq5ESLE"
      },
      "execution_count": null,
      "outputs": []
    },
    {
      "cell_type": "code",
      "source": [
        "```\n",
        "\n",
        "pip install pycaret\n",
        "\n",
        "```\n",
        "\n",
        "\n",
        "\n",
        "\n",
        "```\n",
        "\n",
        "import pycaret\n",
        "\n",
        "pycaret.__version__\n",
        "\n",
        ">>> 2.3.10\n",
        "\n",
        "```"
      ],
      "metadata": {
        "id": "q7NECyLrEVwu"
      },
      "execution_count": null,
      "outputs": []
    },
    {
      "cell_type": "code",
      "source": [
        "```\n",
        "\n",
        "from pycaret.regression import *\n",
        "\n",
        "s = setup(data, target = 'charges')\n",
        "\n",
        "```"
      ],
      "metadata": {
        "id": "0mjoH-MVEZMQ"
      },
      "execution_count": null,
      "outputs": []
    },
    {
      "cell_type": "code",
      "source": [
        "```\n",
        "\n",
        "best = compare_models()\n",
        "\n",
        "```"
      ],
      "metadata": {
        "id": "7QTGO51xEbCd"
      },
      "execution_count": null,
      "outputs": []
    },
    {
      "cell_type": "code",
      "source": [
        "```\n",
        "\n",
        "create_api (best, 'insurance_prediction_model')\n",
        "\n",
        "```"
      ],
      "metadata": {
        "id": "4DdYhSAUEce7"
      },
      "execution_count": null,
      "outputs": []
    },
    {
      "cell_type": "code",
      "source": [
        "```\n",
        "\n",
        "import pandas as pd\n",
        "\n",
        "from pycaret.regression import load_model, predict_model\n",
        "\n",
        "from fastapi import FastAPI\n",
        "\n",
        "import uvicorn\n",
        "\n",
        "\n",
        "\n",
        "\n",
        "# Create the app\n",
        "\n",
        "app = FastAPI()\n",
        "\n",
        "\n",
        "\n",
        "\n",
        "# Load trained Pipeline\n",
        "\n",
        "model = load_model('my_lr_api')\n",
        "\n",
        "\n",
        "\n",
        "\n",
        "# Define predict function\n",
        "\n",
        "@app.post('/predict')\n",
        "\n",
        "def predict(age, sex, bmi, children, smoker, region):\n",
        "\n",
        "    data = pd.DataFrame([[age, sex, bmi, children, smoker, region]])\n",
        "\n",
        "    data.columns = ['age', 'sex', 'bmi', 'children', 'smoker', 'region']\n",
        "\n",
        "    predictions = predict_model(model, data=data)\n",
        "\n",
        "    return {'prediction': list(predictions['Label'])}\n",
        "\n",
        "\n",
        "\n",
        "\n",
        "if __name__ == '__main__':\n",
        "\n",
        "    uvicorn.run(app, host='127.0.0.1', port=8000)\n",
        "\n",
        "\n",
        "\n",
        "\n",
        "```"
      ],
      "metadata": {
        "id": "c_VfpnWiEeFY"
      },
      "execution_count": null,
      "outputs": []
    }
  ]
}