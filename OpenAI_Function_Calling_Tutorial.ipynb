{
  "nbformat": 4,
  "nbformat_minor": 0,
  "metadata": {
    "colab": {
      "provenance": []
    },
    "kernelspec": {
      "name": "python3",
      "display_name": "Python 3"
    },
    "language_info": {
      "name": "python"
    }
  },
  "cells": [
    {
      "cell_type": "markdown",
      "source": [
        "What is OpenAI Function Calling?\n",
        "\n",
        "The OpenAI API is great at generating the response in a systematic way. You can manage your prompts, optimize the model output, and perform, build, and language applications with few lines of code.\n",
        "\n",
        "Even with all the good stuff, the OpenAI API was a nightmare for the developers and engineers. Why? They are accustomed to working with structured data types, and working with unstructured data like string is hard.\n",
        "\n",
        "To get consistent results, developers have to use regular expressions (RegEx) or prompt engineering to extract the information from the text string.\n",
        "\n",
        "This is where OpenAI's function calling capability comes in. It allows GPT-3.5 and GPT-4 models to take user-defined functions as input and generate structure output. With this, you don't need to write RegEx or perform prompt engineering.\n",
        "\n",
        "In this tutorial, we will explore how OpenAI function calling can help resolve common developer problems caused by irregular model outputs.\n",
        "\n",
        "If you are just starting out with ChatGPT and the OpenAI API, consider taking a look at the Getting Started with the OpenAI API and ChatGPT webinar. This resource can guide you through language and coding generation and help you perform basic tasks using Python API.\n",
        "\n",
        "Using OpenAI Without Function Calling\n",
        "\n",
        "In this section, we will generate responses using the GPT-3.5-Turbo model without function calling to see if we get consistent output or not.\n",
        "\n",
        "Before installing the OpenAI Python API, you must obtain an API key and set it up on your local system. Follow the GPT-3.5 and GPT-4 via the OpenAI API in Python tutorial to learn how to get the API key and set it up. The tutorial also includes examples of setting up environment variables in DataCamp Workspace."
      ],
      "metadata": {
        "id": "EDcHs8GpfKfH"
      }
    },
    {
      "cell_type": "code",
      "source": [
        "!pip install openai -q"
      ],
      "metadata": {
        "id": "TrcpDphNfPKL"
      },
      "execution_count": null,
      "outputs": []
    },
    {
      "cell_type": "code",
      "source": [
        "student_1_description = \"David Nguyen is a sophomore majoring in computer science at Stanford University. He is Asian American and has a 3.8 GPA. David is known for his programming skills and is an active member of the university's Robotics Club. He hopes to pursue a career in artificial intelligence after graduating.\""
      ],
      "metadata": {
        "id": "vTNoZZnkfRbn"
      },
      "execution_count": null,
      "outputs": []
    },
    {
      "cell_type": "code",
      "source": [
        "# A simple prompt to extract information from \"student_description\" in a JSON format.\n",
        "prompt1 = f'''\n",
        "Please extract the following information from the given text and return it as a JSON object:\n",
        "\n",
        "name\n",
        "major\n",
        "school\n",
        "grades\n",
        "club\n",
        "\n",
        "This is the body of text to extract the information from:\n",
        "{student_1_description}\n",
        "'''"
      ],
      "metadata": {
        "id": "zUBs9zODfTK0"
      },
      "execution_count": null,
      "outputs": []
    },
    {
      "cell_type": "code",
      "source": [
        "import openai\n",
        "\n",
        "# Generating response back from gpt-3.5-turbo\n",
        "openai_response = openai.ChatCompletion.create(\n",
        "    model = 'gpt-3.5-turbo',\n",
        "    messages = [{'role': 'user', 'content': prompt1}]\n",
        ")\n",
        "openai_response['choices'][0]['message']['content']"
      ],
      "metadata": {
        "id": "5T-0Y-NqfU-I"
      },
      "execution_count": null,
      "outputs": []
    },
    {
      "cell_type": "code",
      "source": [
        "import json\n",
        "\n",
        "# Loading the response as a JSON object\n",
        "json_response = json.loads(openai_response['choices'][0]['message']['content'])\n",
        "json_response"
      ],
      "metadata": {
        "id": "x_ShaQknfWdD"
      },
      "execution_count": null,
      "outputs": []
    },
    {
      "cell_type": "code",
      "source": [
        "student_2_description=\"Ravi Patel is a sophomore majoring in computer science at the University of Michigan. He is South Asian Indian American and has a 3.7 GPA. Ravi is an active member of the university's Chess Club and the South Asian Student Association. He hopes to pursue a career in software engineering after graduating.\""
      ],
      "metadata": {
        "id": "JmdLtl3wfYpT"
      },
      "execution_count": null,
      "outputs": []
    },
    {
      "cell_type": "code",
      "source": [
        "prompt2 = f'''\n",
        "Please extract the following information from the given text and return it as a JSON object:\n",
        "\n",
        "name\n",
        "major\n",
        "school\n",
        "grades\n",
        "club\n",
        "\n",
        "This is the body of text to extract the information from:\n",
        "{student_2_description}\n",
        "'''"
      ],
      "metadata": {
        "id": "2Ugps_psfbwW"
      },
      "execution_count": null,
      "outputs": []
    },
    {
      "cell_type": "code",
      "source": [
        "openai_response = openai.ChatCompletion.create(\n",
        "    model = 'gpt-3.5-turbo',\n",
        "    messages = [{'role': 'user', 'content': prompt2 }]\n",
        ")\n",
        "\n",
        "# Loading the response as a JSON object\n",
        "json_response = json.loads(openai_response['choices'][0]['message']['content'])\n",
        "json_response"
      ],
      "metadata": {
        "id": "YX9cssn_feDB"
      },
      "execution_count": null,
      "outputs": []
    },
    {
      "cell_type": "code",
      "source": [
        "student_custom_functions = [\n",
        "    {\n",
        "        'name': 'extract_student_info',\n",
        "        'description': 'Get the student information from the body of the input text',\n",
        "        'parameters': {\n",
        "            'type': 'object',\n",
        "            'properties': {\n",
        "                'name': {\n",
        "                    'type': 'string',\n",
        "                    'description': 'Name of the person'\n",
        "                },\n",
        "                'major': {\n",
        "                    'type': 'string',\n",
        "                    'description': 'Major subject.'\n",
        "                },\n",
        "                'school': {\n",
        "                    'type': 'string',\n",
        "                    'description': 'The university name.'\n",
        "                },\n",
        "                'grades': {\n",
        "                    'type': 'integer',\n",
        "                    'description': 'GPA of the student.'\n",
        "                },\n",
        "                'club': {\n",
        "                    'type': 'string',\n",
        "                    'description': 'School club for extracurricular activities. '\n",
        "                }\n",
        "\n",
        "            }\n",
        "        }\n",
        "    }\n",
        "]"
      ],
      "metadata": {
        "id": "uos1M0jVffbD"
      },
      "execution_count": null,
      "outputs": []
    },
    {
      "cell_type": "code",
      "source": [
        "student_description = [student_1_description,student_2_description]\n",
        "for sample in student_description:\n",
        "    response = openai.ChatCompletion.create(\n",
        "        model = 'gpt-3.5-turbo',\n",
        "        messages = [{'role': 'user', 'content': sample}],\n",
        "        functions = student_custom_functions,\n",
        "        function_call = 'auto'\n",
        "    )\n",
        "\n",
        "    # Loading the response as a JSON object\n",
        "    json_response = json.loads(response['choices'][0]['message']['function_call']['arguments'])\n",
        "    print(json_response)"
      ],
      "metadata": {
        "id": "1sxokEtXfigJ"
      },
      "execution_count": null,
      "outputs": []
    },
    {
      "cell_type": "code",
      "source": [
        "custom_functions = [\n",
        "    {\n",
        "        'name': 'extract_student_info',\n",
        "        'description': 'Get the student information from the body of the input text',\n",
        "        'parameters': {\n",
        "            'type': 'object',\n",
        "            'properties': {\n",
        "                'name': {\n",
        "                    'type': 'string',\n",
        "                    'description': 'Name of the person'\n",
        "                },\n",
        "                'major': {\n",
        "                    'type': 'string',\n",
        "                    'description': 'Major subject.'\n",
        "                },\n",
        "                'school': {\n",
        "                    'type': 'string',\n",
        "                    'description': 'The university name.'\n",
        "                },\n",
        "                'grades': {\n",
        "                    'type': 'integer',\n",
        "                    'description': 'GPA of the student.'\n",
        "                },\n",
        "                'club': {\n",
        "                    'type': 'string',\n",
        "                    'description': 'School club for extracurricular activities. '\n",
        "                }\n",
        "\n",
        "            }\n",
        "        }\n",
        "    },\n",
        "    {\n",
        "        'name': 'extract_school_info',\n",
        "        'description': 'Get the school information from the body of the input text',\n",
        "        'parameters': {\n",
        "            'type': 'object',\n",
        "            'properties': {\n",
        "                'name': {\n",
        "                    'type': 'string',\n",
        "                    'description': 'Name of the school.'\n",
        "                },\n",
        "                'ranking': {\n",
        "                    'type': 'integer',\n",
        "                    'description': 'QS world ranking of the school.'\n",
        "                },\n",
        "                'country': {\n",
        "                    'type': 'string',\n",
        "                    'description': 'Country of the school.'\n",
        "                },\n",
        "                'no_of_students': {\n",
        "                    'type': 'integer',\n",
        "                    'description': 'Number of students enrolled in the school.'\n",
        "                }\n",
        "            }\n",
        "        }\n",
        "    }\n",
        "]"
      ],
      "metadata": {
        "id": "vpfJCbRTfmlW"
      },
      "execution_count": null,
      "outputs": []
    },
    {
      "cell_type": "code",
      "source": [
        "school_1_description = \"Stanford University is a private research university located in Stanford, California, United States. It was founded in 1885 by Leland Stanford and his wife, Jane Stanford, in memory of their only child, Leland Stanford Jr. The university is ranked #5 in the world by QS World University Rankings. It has over 17,000 students, including about 7,600 undergraduates and 9,500 graduates23. \""
      ],
      "metadata": {
        "id": "DILvbSCAfpx8"
      },
      "execution_count": null,
      "outputs": []
    },
    {
      "cell_type": "code",
      "source": [
        "description = [student_1_description, school_1_description]\n",
        "for i in description:\n",
        "    response = openai.ChatCompletion.create(\n",
        "        model = 'gpt-3.5-turbo',\n",
        "        messages = [{'role': 'user', 'content': i}],\n",
        "        functions = custom_functions,\n",
        "        function_call = 'auto'\n",
        "    )\n",
        "\n",
        "    # Loading the response as a JSON object\n",
        "    json_response = json.loads(response['choices'][0]['message']['function_call']['arguments'])\n",
        "    print(json_response)"
      ],
      "metadata": {
        "id": "Aaad41sFftRj"
      },
      "execution_count": null,
      "outputs": []
    },
    {
      "cell_type": "code",
      "source": [
        "def extract_student_info(name, major, school, grades, club):\n",
        "\n",
        "    \"\"\"Get the student information\"\"\"\n",
        "\n",
        "    return f\"{name} is majoring in {major} at {school}. He has {grades} GPA and he is an active member of the university's {club}.\"\n",
        "\n",
        "def extract_school_info(name, ranking, country, no_of_students):\n",
        "\n",
        "    \"\"\"Get the school information\"\"\"\n",
        "\n",
        "    return f\"{name} is located in the {country}. The university is ranked #{ranking} in the world with {no_of_students} students.\""
      ],
      "metadata": {
        "id": "Sf1RcPMqfviM"
      },
      "execution_count": null,
      "outputs": []
    },
    {
      "cell_type": "code",
      "source": [
        "descriptions = [\n",
        "    student_1_description,\n",
        "    \"Who was a Abraham Lincoln?\",\n",
        "    school_1_description\n",
        "                ]\n",
        "for i, sample in enumerate(descriptions):\n",
        "    response = openai.ChatCompletion.create(\n",
        "        model = 'gpt-3.5-turbo',\n",
        "        messages = [{'role': 'user', 'content': sample}],\n",
        "        functions = custom_functions,\n",
        "        function_call = 'auto'\n",
        "    )\n",
        "\n",
        "    response_message = response[\"choices\"][0][\"message\"]\n",
        "\n",
        "    if response_message.get('function_call'):\n",
        "\n",
        "        # Which function call was invoked\n",
        "        function_called = response_message['function_call']['name']\n",
        "\n",
        "        # Extracting the arguments\n",
        "        function_args  = json.loads(response_message['function_call']['arguments'])\n",
        "\n",
        "        # Function names\n",
        "        available_functions = {\n",
        "            \"extract_school_info\": extract_school_info,\n",
        "            \"extract_student_info\": extract_student_info\n",
        "        }\n",
        "\n",
        "        fuction_to_call = available_functions[function_called]\n",
        "        response_message = fuction_to_call(*list(function_args .values()))\n",
        "\n",
        "    else:\n",
        "        response_message = response_message['content']\n",
        "\n",
        "    print(f\"\\nSample#{i+1}\\n\")\n",
        "    print(response_message)"
      ],
      "metadata": {
        "id": "HcaW62b0f0Jr"
      },
      "execution_count": null,
      "outputs": []
    }
  ]
}