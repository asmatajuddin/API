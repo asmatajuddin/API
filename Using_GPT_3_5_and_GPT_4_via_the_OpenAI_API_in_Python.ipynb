{
  "nbformat": 4,
  "nbformat_minor": 0,
  "metadata": {
    "colab": {
      "provenance": []
    },
    "kernelspec": {
      "name": "python3",
      "display_name": "Python 3"
    },
    "language_info": {
      "name": "python"
    }
  },
  "cells": [
    {
      "cell_type": "markdown",
      "source": [
        "Using GPT-3.5 and GPT-4 via the OpenAI API in Python"
      ],
      "metadata": {
        "id": "dTnM3jEdC_er"
      }
    },
    {
      "cell_type": "markdown",
      "source": [
        "When Should You Use the API Rather Than The Web Interface?\n",
        "\n",
        "The ChatGPT web application is a great interface to GPT models. However, if you want to include AI into a data pipeline or into software, the API is more appropriate. Some possible use cases for data practitioners include:\n",
        "\n",
        "Pulling in data from a database or another API, then asking GPT to summarize it or generate a report about it\n",
        "Embedding GPT functionality in a dashboard to automatically provide a text summary of the results\n",
        "Providing a natural language interface to your data mart\n",
        "Performing research by pulling in journal papers through the scholarly (PyPI, Conda) package, and getting GPT to summarize the results\n",
        "Setup An OpenAI Developer Account\n",
        "\n",
        "To use the API, you need to create a developer account with OpenAI. You'll need to have your email address, phone number, and debit or credit card details handy.\n",
        "\n",
        "Follow these steps:\n",
        "\n",
        "Go to the API signup page.\n",
        "Create your account (you'll need to provide your email address and your phone number).\n",
        "Go to the API keys page.\n",
        "Create a new secret key.\n",
        "Take a copy of this key. (If you lose it, delete the key and create a new one.)\n",
        "Go to the Payment Methods page.\n",
        "Click 'Add payment method' and fill in your card details.\n",
        "Securely Store Your Account Credentials\n",
        "\n",
        "The secret key needs to be kept secret! Otherwise, other people can use it to access the API, and you will pay for it. The following steps describe how to securely store your key using DataCamp Workspace. If you are using a different platform, please check the documentation for that platform. You can also ask ChatGPT for advice. Here's a suggested prompt:\n",
        "\n",
        "> You are an IT security expert. You are speaking to a data scientist. Explain the best practices for securely storing private keys used for API access.\n",
        "\n",
        "In your workspace, click on Integrations\n",
        "Click on the \"Create integration\" plus button\n",
        "Select an \"Environment Variables\" integration\n",
        "In the \"Name\" field, type \"OPENAI\". In the \"Value\" field, paste in your secret key\n",
        "Click \"Create\", and connect the new integration\n",
        "Setting up Python\n",
        "\n",
        "To use GPT via the API, you need to import the os and openai Python packages.\n",
        "\n",
        "If you are using a Jupyter Notebook (like DataCamp Workspace), it's also helpful to import some functions from IPython.display.\n",
        "\n",
        "One example also uses the yfinance package to retrieve stock prices."
      ],
      "metadata": {
        "id": "ay7EPwGiDBPp"
      }
    },
    {
      "cell_type": "code",
      "source": [
        "# Import the os package\n",
        "import os\n",
        "\n",
        "# Import the openai package\n",
        "import openai\n",
        "\n",
        "# From the IPython.display package, import display and Markdown\n",
        "from IPython.display import display, Markdown\n",
        "\n",
        "# Import yfinance as yf\n",
        "import yfinance as yf"
      ],
      "metadata": {
        "id": "ogYHykxnDRWc"
      },
      "execution_count": null,
      "outputs": []
    },
    {
      "cell_type": "code",
      "source": [
        "# Set openai.api_key to the OPENAI environment variable\n",
        "openai.api_key = os.environ[\"OPENAI\"]"
      ],
      "metadata": {
        "id": "r0pHDTe7DSku"
      },
      "execution_count": null,
      "outputs": []
    },
    {
      "cell_type": "code",
      "source": [
        "response = openai.ChatCompletion.create(\n",
        "              model=\"MODEL_NAME\",\n",
        "              messages=[{\"role\": \"system\", \"content\": 'SPECIFY HOW THE AI ASSISTANT SHOULD BEHAVE'},\n",
        "                        {\"role\": \"user\", \"content\": 'SPECIFY WANT YOU WANT THE AI ASSISTANT TO SAY'}\n",
        "              ])"
      ],
      "metadata": {
        "id": "dqAErlXQDUHz"
      },
      "execution_count": null,
      "outputs": []
    },
    {
      "cell_type": "code",
      "source": [
        "# Define the system message\n",
        "system_msg = 'You are a helpful assistant who understands data science.'\n",
        "\n",
        "# Define the user message\n",
        "user_msg = 'Create a small dataset about total sales over the last year. The format of the dataset should be a data frame with 12 rows and 2 columns. The columns should be called \"month\" and \"total_sales_usd\". The \"month\" column should contain the shortened forms of month names from \"Jan\" to \"Dec\". The \"total_sales_usd\" column should contain random numeric values taken from a normal distribution with mean 100000 and standard deviation 5000. Provide Python code to generate the dataset, then provide the output in the format of a markdown table.'\n",
        "\n",
        "# Create a dataset using GPT\n",
        "response = openai.ChatCompletion.create(model=\"gpt-3.5-turbo\",\n",
        "                                        messages=[{\"role\": \"system\", \"content\": system_msg},\n",
        "                                         {\"role\": \"user\", \"content\": user_msg}])"
      ],
      "metadata": {
        "id": "zt8wGBkDDVwh"
      },
      "execution_count": null,
      "outputs": []
    },
    {
      "cell_type": "code",
      "source": [
        "response[\"choices\"][0][\"finish_reason\"]"
      ],
      "metadata": {
        "id": "viUFft2QDaGZ"
      },
      "execution_count": null,
      "outputs": []
    },
    {
      "cell_type": "code",
      "source": [
        "response[\"choices\"][0][\"message\"][\"content\"]"
      ],
      "metadata": {
        "id": "F14bHslRDcPf"
      },
      "execution_count": null,
      "outputs": []
    },
    {
      "cell_type": "code",
      "source": [
        "Here's the Python code to generate the dataset:\n",
        "\n",
        "import numpy as np\n",
        "import pandas as pd\n",
        "# Set random seed for reproducibility\n",
        "np.random.seed(42)\n",
        "# Generate random sales data\n",
        "sales_data = np.random.normal(loc=100000, scale=5000, size=12)\n",
        "# Create month abbreviation list\n",
        "month_abbr = ['Jan', 'Feb', 'Mar', 'Apr', 'May', 'Jun', 'Jul', 'Aug', 'Sep', 'Oct', 'Nov', 'Dec']\n",
        "# Create dataframe\n",
        "sales_df = pd.DataFrame({'month': month_abbr, 'total_sales_usd': sales_data})\n",
        "# Print dataframe\n",
        "print(sales_df)\n",
        "\n",
        "And here's the output in markdown format:\n",
        "\n",
        "| month | total_sales_usd |\n",
        "\n",
        "|-------|----------------|\n",
        "\n",
        "| Jan | 98728.961189 |\n",
        "\n",
        "| Feb | 106931.030292 |\n",
        "\n",
        "| Mar | 101599.514152 |\n",
        "\n",
        "| Apr | 97644.534384 |\n",
        "\n",
        "| May | 103013.191014 |\n",
        "\n",
        "| Jun | 102781.514665 |\n",
        "\n",
        "| Jul | 100157.741173 |\n",
        "\n",
        "| Aug | 104849.281004 |\n",
        "\n",
        "| Sep | 100007.081991 |\n",
        "\n",
        "| Oct | 94080.272682 |\n",
        "\n",
        "| Nov | 96240.993328 |\n",
        "\n",
        "| Dec | 104719.371461 |"
      ],
      "metadata": {
        "id": "G3eaYUClDk2-"
      },
      "execution_count": null,
      "outputs": []
    },
    {
      "cell_type": "code",
      "source": [
        "def chat(system, user_assistant):\n",
        "  assert isinstance(system, str), \"`system` should be a string\"\n",
        "  assert isinstance(user_assistant, list), \"`user_assistant` should be a list\"\n",
        "  system_msg = [{\"role\": \"system\", \"content\": system}]\n",
        "  user_assistant_msgs = [\n",
        "      {\"role\": \"assistant\", \"content\": user_assistant[i]} if i % 2 else {\"role\": \"user\", \"content\": user_assistant[i]}\n",
        "      for i in range(len(user_assistant))]\n",
        "\n",
        "  msgs = system_msg + user_assistant_msgs\n",
        "  response = openai.ChatCompletion.create(model=\"gpt-3.5-turbo\",\n",
        "                                          messages=msgs)\n",
        "  status_code = response[\"choices\"][0][\"finish_reason\"]\n",
        "  assert status_code == \"stop\", f\"The status code was {status_code}.\"\n",
        "  return response[\"choices\"][0][\"message\"][\"content\"]"
      ],
      "metadata": {
        "id": "mnqSRcnuDmFp"
      },
      "execution_count": null,
      "outputs": []
    },
    {
      "cell_type": "code",
      "source": [
        "response_fn_test = chat(\"You are a machine learning expert.\",[\"Explain what a neural network is.\"])\n",
        "\n",
        "display(Markdown(response_fn_test))"
      ],
      "metadata": {
        "id": "4xxwlUxPDohY"
      },
      "execution_count": null,
      "outputs": []
    },
    {
      "cell_type": "code",
      "source": [
        "# Assign the content from the response in Task 1 to assistant_msg\n",
        "assistant_msg = response[\"choices\"][0][\"message\"][\"content\"]\n",
        "\n",
        "# Define a new user message\n",
        "user_msg2 = 'Using the dataset you just created, write code to calculate the mean of the `total_sales_usd` column. Also include the result of the calculation.'\n",
        "\n",
        "# Create an array of user and assistant messages\n",
        "user_assistant_msgs = [user_msg, assistant_msg, user_msg2]\n",
        "\n",
        "# Get GPT to perform the request\n",
        "response_calc = chat(system_msg, user_assistant_msgs)\n",
        "\n",
        "# Display the generated content\n",
        "display(Markdown(response_calc))\n"
      ],
      "metadata": {
        "id": "R-Z3MthCDqJ4"
      },
      "execution_count": null,
      "outputs": []
    },
    {
      "cell_type": "markdown",
      "source": [
        "Using GPT in a Pipeline"
      ],
      "metadata": {
        "id": "TdCsnDrvDxpM"
      }
    },
    {
      "cell_type": "code",
      "source": [
        "# Import the weather2 package\n",
        "import weather\n",
        "\n",
        "# Get the forecast for Miami\n",
        "location = \"Miami\"\n",
        "forecast = weather.forecast(location)\n",
        "\n",
        "# Pull out forecast data for midday tomorrow\n",
        "fcast = forecast.tomorrow[\"12:00\"]\n",
        "\n",
        "# Create a prompt\n",
        "user_msg_weather = f\"In {location} at midday tomorrow, the temperature is forecast to be {fcast.temp}, the wind speed is forecast to be {fcast.wind.speed} m/s, and the amount of precipitation is forecast to be {fcast.precip}. Make a list of suitable leisure activities.\"\n",
        "\n",
        "# Call GPT\n",
        "response_activities = chat(\"You are a travel guide.\", [user_msg_weather])\n",
        "\n",
        "display(Markdown(response_activities))"
      ],
      "metadata": {
        "id": "6rtZXDxMD07x"
      },
      "execution_count": null,
      "outputs": []
    }
  ]
}